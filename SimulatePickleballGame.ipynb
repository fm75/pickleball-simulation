{
 "cells": [
  {
   "cell_type": "markdown",
   "id": "4576883d-6796-49d8-9520-6119a84651a2",
   "metadata": {},
   "source": [
    "[reddit picketball statistics link](https://www.reddit.com/r/Pickleball/comments/x07ib1/i_watched_107_professional_pickleball_matches_to/)\n",
    "\n",
    "All matches were from professional tournaments or exhibitions matches, either APP or PPA. I only counted games played to 11 with standard scoring, so no loser bracket games to 15 and no rally scoring. Games were a fairly even mix of the 5 categories encompassing singles and doubles: 20 Men's Singles (MS), 16 Women's Singles (WS), 28 Men's Doubles (MD), 21 Women's Doubles (WD), and 21 Mixed Doubles (XD). Tournament matches tended to be between fairly evenly ranked players, as those are the matches that tend to be broadcast because a more close match can be expected.\n",
    "\n",
    "The serving team won 45.7% of the rallies. This is better performance than the 40% I have seen tossed around. \n",
    "There was variation by match type:\n",
    "| Match Type      | Server Win % |\n",
    "| --------------- | :------------|\n",
    "| Men's Singles   | 49.6 |\n",
    "| Women's Singles | 55.4 |\n",
    "| Men's Doubles   | 41.5 |\n",
    "| Women's Doubles | 44.4 |\n",
    "| Mixed Doubles   | 44.3 |"
   ]
  },
  {
   "cell_type": "code",
   "execution_count": 1,
   "id": "bdf9b9a5-21ca-4b47-baf8-d4cf17e32376",
   "metadata": {},
   "outputs": [],
   "source": [
    "from random import random"
   ]
  },
  {
   "cell_type": "code",
   "execution_count": 2,
   "id": "92368b0e-81f3-4666-a239-2843b22486f3",
   "metadata": {},
   "outputs": [],
   "source": [
    "def win_point(serve_percent_rate = 0.44):\n",
    "    return 1 if random() <= serve_percent_rate else 0\n",
    "\n",
    "\n",
    "def game_over(tp1, tp2, game_to = 11, win_by=2):\n",
    "    if tp1 < game_to and tp2 < game_to: return False\n",
    "    if tp1 >= tp2 + win_by:             return True\n",
    "    if tp2 >= tp1 + win_by:             return True\n",
    "    return False\n",
    "\n",
    "\n",
    "def simulate_doubles_games(no_of_games=1, win_rate=[[0.415, 0.415], [0.415, 0.415]],\n",
    "                        game_to=11, win_by=2, debug=False):\n",
    "    # Simulate games. If debug, Report each rally and the final score\n",
    "    \n",
    "    wins = [0, 0]\n",
    "    \n",
    "    for games in range(1, no_of_games+1):\n",
    "        points = [0,0]\n",
    "        serving_team = 0\n",
    "        serving_server = 1\n",
    "        while not game_over(points[0], points[1]):\n",
    "            if (debug):\n",
    "                print(serving_team, serving_server, points)\n",
    "            if win_point(win_rate[serving_team][serving_server]):\n",
    "                points[serving_team] += 1\n",
    "                continue\n",
    "            if serving_server == 1:\n",
    "                serving_team = (serving_team + 1) % 2\n",
    "                serving_server = 0\n",
    "                continue\n",
    "            serving_server += 1\n",
    "        if debug:\n",
    "            print()\n",
    "            print(serving_team, serving_server, points)\n",
    "        wins[serving_team] = wins[serving_team] +1\n",
    "        if games % 5000 == 0:\n",
    "            print(f\"{games:6d}, {wins[0] / (wins[0] + wins[1]):.3f}\")\n",
    "    return wins"
   ]
  },
  {
   "cell_type": "code",
   "execution_count": 3,
   "id": "af8cbde1-21a0-45f8-9ec1-a0696b0201fa",
   "metadata": {},
   "outputs": [],
   "source": [
    "assert game_over(11,3) \n",
    "assert game_over(0,11)\n",
    "assert game_over(11,10, win_by=1)",
    "assert not game_over(11,10)\n",
    "assert not game_over(11,12)"
   ]
  },
  {
   "cell_type": "code",
   "execution_count": 4,
   "id": "9d739d29-ff80-4431-ac58-831f8d7cded6",
   "metadata": {},
   "outputs": [],
   "source": [
    "# start of game conditions\n",
    "points = [0,0]\n",
    "serving_team = 0\n",
    "serving_server = 2"
   ]
  },
  {
   "cell_type": "code",
   "execution_count": null,
   "id": "809cf104-ce54-4baf-bb8f-9dd0a57e8189",
   "metadata": {},
   "outputs": [],
   "source": [
    "wins = simulate_doubles_games(100000)\n",
    "print(wins, f\"{wins[0] / wins[1]:.3f}\")"
   ]
  },
  {
   "cell_type": "code",
   "execution_count": 31,
   "id": "f64eb0bd-f9ae-481c-8d82-ace9a9a85f04",
   "metadata": {},
   "outputs": [],
   "source": [
    "wr =[[0.475, 0.475], [0.405, 0.405]]"
   ]
  },
  {
   "cell_type": "code",
   "execution_count": 37,
   "id": "5d9be461-eea5-4c44-bafb-1fca51207e50",
   "metadata": {},
   "outputs": [
    {
     "name": "stdout",
     "output_type": "stream",
     "text": [
      "[27, 9] 3.000\n"
     ]
    }
   ],
   "source": [
    "wins = simulate_doubles_games(36, win_rate=wr, win_by=1)\n",
    "print(wins, f\"{wins[0] / wins[1]:.3f}\")"
   ]
  },
  {
   "cell_type": "code",
   "execution_count": 38,
   "id": "8b209ee5-89e7-4d95-b78f-5288c6682da7",
   "metadata": {},
   "outputs": [
    {
     "name": "stdout",
     "output_type": "stream",
     "text": [
      "[29, 7] 4.143\n",
      "[31, 5] 6.200\n",
      "[28, 8] 3.500\n",
      "[25, 11] 2.273\n",
      "[22, 14] 1.571\n",
      "[21, 15] 1.400\n",
      "[23, 13] 1.769\n",
      "[25, 11] 2.273\n",
      "[25, 11] 2.273\n",
      "[21, 15] 1.400\n",
      "[29, 7] 4.143\n",
      "[29, 7] 4.143\n",
      "[20, 16] 1.250\n",
      "[29, 7] 4.143\n",
      "[24, 12] 2.000\n",
      "[28, 8] 3.500\n",
      "[25, 11] 2.273\n",
      "[27, 9] 3.000\n",
      "[26, 10] 2.600\n",
      "[23, 13] 1.769\n"
     ]
    }
   ],
   "source": [
    "for _ in range(20):\n",
    "    wins = simulate_doubles_games(36, win_rate=wr, win_by=1)\n",
    "    print(wins, f\"{wins[0] / wins[1]:.3f}\")"
   ]
  },
  {
   "cell_type": "code",
   "execution_count": null,
   "id": "ae292d3d-2cc4-4b3d-8392-55b220dbdb05",
   "metadata": {},
   "outputs": [],
   "source": []
  }
 ],
 "metadata": {
  "kernelspec": {
   "display_name": "Python 3 (ipykernel)",
   "language": "python",
   "name": "python3"
  },
  "language_info": {
   "codemirror_mode": {
    "name": "ipython",
    "version": 3
   },
   "file_extension": ".py",
   "mimetype": "text/x-python",
   "name": "python",
   "nbconvert_exporter": "python",
   "pygments_lexer": "ipython3",
   "version": "3.14.0"
  }
 },
 "nbformat": 4,
 "nbformat_minor": 5
}
